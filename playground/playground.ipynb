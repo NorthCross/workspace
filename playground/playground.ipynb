{
 "cells": [
  {
   "cell_type": "code",
   "execution_count": null,
   "metadata": {},
   "outputs": [],
   "source": []
  }
 ],
 "metadata": {
  "kernelspec": {
   "display_name": "torch",
   "language": "python",
   "name": "python3"
  },
  "language_info": {
   "name": "python",
   "version": "3.9.16 (main, Jan 11 2023, 16:16:36) [MSC v.1916 64 bit (AMD64)]"
  },
  "orig_nbformat": 4,
  "vscode": {
   "interpreter": {
    "hash": "c29e719cfc4ae2e0dd8dd6131efd00ad1dc1d270dfa801f2206aff4e9bc92f9b"
   }
  }
 },
 "nbformat": 4,
 "nbformat_minor": 2
}
